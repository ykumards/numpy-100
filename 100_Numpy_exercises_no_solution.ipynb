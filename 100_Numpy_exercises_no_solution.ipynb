{
  "nbformat": 4,
  "nbformat_minor": 0,
  "metadata": {
    "colab": {
      "name": "100_Numpy_exercises_no_solution.ipynb",
      "version": "0.3.2",
      "provenance": []
    },
    "kernelspec": {
      "name": "python3",
      "display_name": "Python 3"
    }
  },
  "cells": [
    {
      "metadata": {
        "id": "x9b0ExP8UPkZ",
        "colab_type": "text"
      },
      "cell_type": "markdown",
      "source": [
        "# 100 numpy exercises\n",
        "\n",
        "This is a collection of exercises that have been collected in the numpy mailing list, on stack overflow and in the numpy documentation. The goal of this collection is to offer a quick reference for both old and new users but also to provide a set of exercises for those who teach.\n",
        "\n",
        "\n",
        "If you find an error or think you've a better way to solve some of them, feel free to open an issue at <https://github.com/rougier/numpy-100>"
      ]
    },
    {
      "metadata": {
        "id": "HrO0qnbfUPkd",
        "colab_type": "text"
      },
      "cell_type": "markdown",
      "source": [
        "#### 1. Import the numpy package under the name `np` (★☆☆)"
      ]
    },
    {
      "metadata": {
        "id": "Dx9iSexxUPke",
        "colab_type": "code",
        "colab": {}
      },
      "cell_type": "code",
      "source": [
        "import numpy as np"
      ],
      "execution_count": 0,
      "outputs": []
    },
    {
      "metadata": {
        "id": "6l0O2w_kUPkk",
        "colab_type": "text"
      },
      "cell_type": "markdown",
      "source": [
        "#### 2. Print the numpy version and the configuration (★☆☆)"
      ]
    },
    {
      "metadata": {
        "id": "xlKajt4vUPkm",
        "colab_type": "code",
        "colab": {
          "base_uri": "https://localhost:8080/",
          "height": 50
        },
        "outputId": "6b747e8b-0d99-46b4-ce49-90a8ca7a9d87"
      },
      "cell_type": "code",
      "source": [
        "display(np.__version__)\n",
        "display(np.__config__)"
      ],
      "execution_count": 3,
      "outputs": [
        {
          "output_type": "display_data",
          "data": {
            "text/plain": [
              "'1.14.5'"
            ]
          },
          "metadata": {
            "tags": []
          }
        },
        {
          "output_type": "display_data",
          "data": {
            "text/plain": [
              "<module 'numpy.__config__' from '/usr/local/lib/python3.6/dist-packages/numpy/__config__.py'>"
            ]
          },
          "metadata": {
            "tags": []
          }
        }
      ]
    },
    {
      "metadata": {
        "id": "8N8vKBG1UPkw",
        "colab_type": "text"
      },
      "cell_type": "markdown",
      "source": [
        "#### 3. Create a null vector of size 10 (★☆☆)"
      ]
    },
    {
      "metadata": {
        "id": "IYJvuj2cUPkx",
        "colab_type": "code",
        "colab": {}
      },
      "cell_type": "code",
      "source": [
        ""
      ],
      "execution_count": 0,
      "outputs": []
    },
    {
      "metadata": {
        "id": "5NkYUKdYUPkz",
        "colab_type": "text"
      },
      "cell_type": "markdown",
      "source": [
        "#### 4.  How to find the memory size of any array (★☆☆)"
      ]
    },
    {
      "metadata": {
        "id": "QR7gk6_9UPk0",
        "colab_type": "code",
        "colab": {}
      },
      "cell_type": "code",
      "source": [
        ""
      ],
      "execution_count": 0,
      "outputs": []
    },
    {
      "metadata": {
        "id": "AWJyVmXBUPk3",
        "colab_type": "text"
      },
      "cell_type": "markdown",
      "source": [
        "#### 5.  How to get the documentation of the numpy add function from the command line? (★☆☆)"
      ]
    },
    {
      "metadata": {
        "id": "WxA2TQEBUPk3",
        "colab_type": "code",
        "colab": {}
      },
      "cell_type": "code",
      "source": [
        ""
      ],
      "execution_count": 0,
      "outputs": []
    },
    {
      "metadata": {
        "id": "QF5T9lbrUPk6",
        "colab_type": "text"
      },
      "cell_type": "markdown",
      "source": [
        "#### 6.  Create a null vector of size 10 but the fifth value which is 1 (★☆☆)"
      ]
    },
    {
      "metadata": {
        "id": "42Oww9qjUPk7",
        "colab_type": "code",
        "colab": {}
      },
      "cell_type": "code",
      "source": [
        ""
      ],
      "execution_count": 0,
      "outputs": []
    },
    {
      "metadata": {
        "id": "ppfVd0DqUPk_",
        "colab_type": "text"
      },
      "cell_type": "markdown",
      "source": [
        "#### 7.  Create a vector with values ranging from 10 to 49 (★☆☆)"
      ]
    },
    {
      "metadata": {
        "id": "FZaLse1xUPk_",
        "colab_type": "code",
        "colab": {}
      },
      "cell_type": "code",
      "source": [
        ""
      ],
      "execution_count": 0,
      "outputs": []
    },
    {
      "metadata": {
        "id": "s_xHZLFLUPlE",
        "colab_type": "text"
      },
      "cell_type": "markdown",
      "source": [
        "#### 8.  Reverse a vector (first element becomes last) (★☆☆)"
      ]
    },
    {
      "metadata": {
        "id": "orO3G3D9UPlF",
        "colab_type": "code",
        "colab": {}
      },
      "cell_type": "code",
      "source": [
        ""
      ],
      "execution_count": 0,
      "outputs": []
    },
    {
      "metadata": {
        "id": "N8WqcgNvUPlK",
        "colab_type": "text"
      },
      "cell_type": "markdown",
      "source": [
        "#### 9.  Create a 3x3 matrix with values ranging from 0 to 8 (★☆☆)"
      ]
    },
    {
      "metadata": {
        "id": "yIy3hqkbUPlL",
        "colab_type": "code",
        "colab": {}
      },
      "cell_type": "code",
      "source": [
        ""
      ],
      "execution_count": 0,
      "outputs": []
    },
    {
      "metadata": {
        "id": "c4yoWcBSUPlR",
        "colab_type": "text"
      },
      "cell_type": "markdown",
      "source": [
        "#### 10. Find indices of non-zero elements from \\[1,2,0,0,4,0\\] (★☆☆)"
      ]
    },
    {
      "metadata": {
        "id": "G__O289-UPlR",
        "colab_type": "code",
        "colab": {}
      },
      "cell_type": "code",
      "source": [
        ""
      ],
      "execution_count": 0,
      "outputs": []
    },
    {
      "metadata": {
        "id": "MfS6b7LPUPlW",
        "colab_type": "text"
      },
      "cell_type": "markdown",
      "source": [
        "#### 11. Create a 3x3 identity matrix (★☆☆)"
      ]
    },
    {
      "metadata": {
        "id": "fuyOP-5aUPlX",
        "colab_type": "code",
        "colab": {}
      },
      "cell_type": "code",
      "source": [
        ""
      ],
      "execution_count": 0,
      "outputs": []
    },
    {
      "metadata": {
        "id": "V6cplD8VUPlZ",
        "colab_type": "text"
      },
      "cell_type": "markdown",
      "source": [
        "#### 12. Create a 3x3x3 array with random values (★☆☆)"
      ]
    },
    {
      "metadata": {
        "id": "5xTrmvgBUPla",
        "colab_type": "code",
        "colab": {},
        "collapsed": true
      },
      "cell_type": "code",
      "source": [
        ""
      ],
      "execution_count": 0,
      "outputs": []
    },
    {
      "metadata": {
        "id": "qyENWHSbUPlc",
        "colab_type": "text"
      },
      "cell_type": "markdown",
      "source": [
        "#### 13. Create a 10x10 array with random values and find the minimum and maximum values (★☆☆)"
      ]
    },
    {
      "metadata": {
        "id": "06n0hmW5UPle",
        "colab_type": "code",
        "colab": {}
      },
      "cell_type": "code",
      "source": [
        ""
      ],
      "execution_count": 0,
      "outputs": []
    },
    {
      "metadata": {
        "id": "7a1LFR_vUPlf",
        "colab_type": "text"
      },
      "cell_type": "markdown",
      "source": [
        "#### 14. Create a random vector of size 30 and find the mean value (★☆☆)"
      ]
    },
    {
      "metadata": {
        "id": "5GykaCR2UPlg",
        "colab_type": "code",
        "colab": {}
      },
      "cell_type": "code",
      "source": [
        ""
      ],
      "execution_count": 0,
      "outputs": []
    },
    {
      "metadata": {
        "id": "KQc0HPQZUPlj",
        "colab_type": "text"
      },
      "cell_type": "markdown",
      "source": [
        "#### 15. Create a 2d array with 1 on the border and 0 inside (★☆☆)"
      ]
    },
    {
      "metadata": {
        "id": "s8tZa0K3UPlj",
        "colab_type": "code",
        "colab": {}
      },
      "cell_type": "code",
      "source": [
        ""
      ],
      "execution_count": 0,
      "outputs": []
    },
    {
      "metadata": {
        "id": "Kzm5zjcUUPlq",
        "colab_type": "text"
      },
      "cell_type": "markdown",
      "source": [
        "#### 16. How to add a border (filled with 0's) around an existing array? (★☆☆)"
      ]
    },
    {
      "metadata": {
        "id": "V2a4y6d2UPlq",
        "colab_type": "code",
        "colab": {}
      },
      "cell_type": "code",
      "source": [
        ""
      ],
      "execution_count": 0,
      "outputs": []
    },
    {
      "metadata": {
        "id": "_AQPJDQNUPlt",
        "colab_type": "text"
      },
      "cell_type": "markdown",
      "source": [
        "#### 17. What is the result of the following expression? (★☆☆)"
      ]
    },
    {
      "metadata": {
        "id": "-URc3o_DUPlv",
        "colab_type": "text"
      },
      "cell_type": "markdown",
      "source": [
        "```python\n",
        "0 * np.nan\n",
        "np.nan == np.nan\n",
        "np.inf > np.nan\n",
        "np.nan - np.nan\n",
        "0.3 == 3 * 0.1\n",
        "```"
      ]
    },
    {
      "metadata": {
        "id": "BPTCKBukUPlv",
        "colab_type": "code",
        "colab": {}
      },
      "cell_type": "code",
      "source": [
        ""
      ],
      "execution_count": 0,
      "outputs": []
    },
    {
      "metadata": {
        "id": "j9SphGq-UPly",
        "colab_type": "text"
      },
      "cell_type": "markdown",
      "source": [
        "#### 18. Create a 5x5 matrix with values 1,2,3,4 just below the diagonal (★☆☆)"
      ]
    },
    {
      "metadata": {
        "id": "5znuR68kUPly",
        "colab_type": "code",
        "colab": {}
      },
      "cell_type": "code",
      "source": [
        ""
      ],
      "execution_count": 0,
      "outputs": []
    },
    {
      "metadata": {
        "id": "-i84AhJ3UPl1",
        "colab_type": "text"
      },
      "cell_type": "markdown",
      "source": [
        "#### 19. Create a 8x8 matrix and fill it with a checkerboard pattern (★☆☆)"
      ]
    },
    {
      "metadata": {
        "id": "nT57TMJEUPl4",
        "colab_type": "code",
        "colab": {}
      },
      "cell_type": "code",
      "source": [
        ""
      ],
      "execution_count": 0,
      "outputs": []
    },
    {
      "metadata": {
        "id": "53VYgcVFUPl7",
        "colab_type": "text"
      },
      "cell_type": "markdown",
      "source": [
        "#### 20. Consider a (6,7,8) shape array, what is the index (x,y,z) of the 100th element?"
      ]
    },
    {
      "metadata": {
        "id": "OAhmzGs5UPl8",
        "colab_type": "code",
        "colab": {}
      },
      "cell_type": "code",
      "source": [
        ""
      ],
      "execution_count": 0,
      "outputs": []
    },
    {
      "metadata": {
        "id": "psXCuMGQUPmD",
        "colab_type": "text"
      },
      "cell_type": "markdown",
      "source": [
        "#### 21. Create a checkerboard 8x8 matrix using the tile function (★☆☆)"
      ]
    },
    {
      "metadata": {
        "id": "2qjsx-AKUPmE",
        "colab_type": "code",
        "colab": {}
      },
      "cell_type": "code",
      "source": [
        ""
      ],
      "execution_count": 0,
      "outputs": []
    },
    {
      "metadata": {
        "id": "5_rjxOqBUPmH",
        "colab_type": "text"
      },
      "cell_type": "markdown",
      "source": [
        "#### 22. Normalize a 5x5 random matrix (★☆☆)"
      ]
    },
    {
      "metadata": {
        "id": "kbnjJurUUPmH",
        "colab_type": "code",
        "colab": {}
      },
      "cell_type": "code",
      "source": [
        ""
      ],
      "execution_count": 0,
      "outputs": []
    },
    {
      "metadata": {
        "id": "AEgzkE75UPmK",
        "colab_type": "text"
      },
      "cell_type": "markdown",
      "source": [
        "#### 23. Create a custom dtype that describes a color as four unsigned bytes (RGBA) (★☆☆)"
      ]
    },
    {
      "metadata": {
        "id": "Jh9SM8TLUPmL",
        "colab_type": "code",
        "colab": {},
        "collapsed": true
      },
      "cell_type": "code",
      "source": [
        ""
      ],
      "execution_count": 0,
      "outputs": []
    },
    {
      "metadata": {
        "id": "d2nZB5n5UPmP",
        "colab_type": "text"
      },
      "cell_type": "markdown",
      "source": [
        "#### 24. Multiply a 5x3 matrix by a 3x2 matrix (real matrix product) (★☆☆)"
      ]
    },
    {
      "metadata": {
        "id": "3uD9nvEdUPmQ",
        "colab_type": "code",
        "colab": {}
      },
      "cell_type": "code",
      "source": [
        ""
      ],
      "execution_count": 0,
      "outputs": []
    },
    {
      "metadata": {
        "id": "Y7Y5b6XzUPmU",
        "colab_type": "text"
      },
      "cell_type": "markdown",
      "source": [
        "#### 25. Given a 1D array, negate all elements which are between 3 and 8, in place. (★☆☆)"
      ]
    },
    {
      "metadata": {
        "id": "SZvm6Sk0UPmU",
        "colab_type": "code",
        "colab": {}
      },
      "cell_type": "code",
      "source": [
        ""
      ],
      "execution_count": 0,
      "outputs": []
    },
    {
      "metadata": {
        "id": "dt06FqS3UPmW",
        "colab_type": "text"
      },
      "cell_type": "markdown",
      "source": [
        "#### 26. What is the output of the following script? (★☆☆)"
      ]
    },
    {
      "metadata": {
        "id": "1E9yCLscUPmX",
        "colab_type": "text"
      },
      "cell_type": "markdown",
      "source": [
        "```python\n",
        "# Author: Jake VanderPlas\n",
        "\n",
        "print(sum(range(5),-1))\n",
        "from numpy import *\n",
        "print(sum(range(5),-1))\n",
        "```"
      ]
    },
    {
      "metadata": {
        "id": "v1P6vAmiUPmY",
        "colab_type": "code",
        "colab": {}
      },
      "cell_type": "code",
      "source": [
        ""
      ],
      "execution_count": 0,
      "outputs": []
    },
    {
      "metadata": {
        "id": "W11a__RJUPmZ",
        "colab_type": "text"
      },
      "cell_type": "markdown",
      "source": [
        "#### 27. Consider an integer vector Z, which of these expressions are legal? (★☆☆)"
      ]
    },
    {
      "metadata": {
        "id": "TLkB4MwRUPma",
        "colab_type": "text"
      },
      "cell_type": "markdown",
      "source": [
        "```python\n",
        "Z**Z\n",
        "2 << Z >> 2\n",
        "Z <- Z\n",
        "1j*Z\n",
        "Z/1/1\n",
        "Z<Z>Z\n",
        "```"
      ]
    },
    {
      "metadata": {
        "id": "5XtYVAJ4UPmc",
        "colab_type": "code",
        "colab": {}
      },
      "cell_type": "code",
      "source": [
        ""
      ],
      "execution_count": 0,
      "outputs": []
    },
    {
      "metadata": {
        "id": "YYhu81PjUPme",
        "colab_type": "text"
      },
      "cell_type": "markdown",
      "source": [
        "#### 28. What are the result of the following expressions?"
      ]
    },
    {
      "metadata": {
        "id": "UIxB8Rf_UPmg",
        "colab_type": "text"
      },
      "cell_type": "markdown",
      "source": [
        "```python\n",
        "np.array(0) / np.array(0)\n",
        "np.array(0) // np.array(0)\n",
        "np.array([np.nan]).astype(int).astype(float)\n",
        "```"
      ]
    },
    {
      "metadata": {
        "id": "aIJXhe8HUPmg",
        "colab_type": "code",
        "colab": {}
      },
      "cell_type": "code",
      "source": [
        ""
      ],
      "execution_count": 0,
      "outputs": []
    },
    {
      "metadata": {
        "id": "SGoWLrIVUPmj",
        "colab_type": "text"
      },
      "cell_type": "markdown",
      "source": [
        "#### 29. How to round away from zero a float array ? (★☆☆)"
      ]
    },
    {
      "metadata": {
        "id": "BoPeru-IUPmk",
        "colab_type": "code",
        "colab": {}
      },
      "cell_type": "code",
      "source": [
        ""
      ],
      "execution_count": 0,
      "outputs": []
    },
    {
      "metadata": {
        "id": "rGamqd4dUPml",
        "colab_type": "text"
      },
      "cell_type": "markdown",
      "source": [
        "#### 30. How to find common values between two arrays? (★☆☆)"
      ]
    },
    {
      "metadata": {
        "id": "ZXFHNnCZUPmm",
        "colab_type": "code",
        "colab": {}
      },
      "cell_type": "code",
      "source": [
        ""
      ],
      "execution_count": 0,
      "outputs": []
    },
    {
      "metadata": {
        "id": "zBc2ZTnIUPmo",
        "colab_type": "text"
      },
      "cell_type": "markdown",
      "source": [
        "#### 31. How to ignore all numpy warnings (not recommended)? (★☆☆)"
      ]
    },
    {
      "metadata": {
        "id": "8MeyIKFoUPmp",
        "colab_type": "code",
        "colab": {}
      },
      "cell_type": "code",
      "source": [
        ""
      ],
      "execution_count": 0,
      "outputs": []
    },
    {
      "metadata": {
        "id": "dkrCckFFUPmr",
        "colab_type": "text"
      },
      "cell_type": "markdown",
      "source": [
        "#### 32. Is the following expressions true? (★☆☆)"
      ]
    },
    {
      "metadata": {
        "id": "Z48p4KFBUPms",
        "colab_type": "text"
      },
      "cell_type": "markdown",
      "source": [
        "```python\n",
        "np.sqrt(-1) == np.emath.sqrt(-1)\n",
        "```"
      ]
    },
    {
      "metadata": {
        "id": "dZqyDFBmUPms",
        "colab_type": "code",
        "colab": {}
      },
      "cell_type": "code",
      "source": [
        ""
      ],
      "execution_count": 0,
      "outputs": []
    },
    {
      "metadata": {
        "id": "7ECVJ8DlUPmu",
        "colab_type": "text"
      },
      "cell_type": "markdown",
      "source": [
        "#### 33. How to get the dates of yesterday, today and tomorrow? (★☆☆)"
      ]
    },
    {
      "metadata": {
        "id": "kUtenl7XUPmw",
        "colab_type": "code",
        "colab": {},
        "collapsed": true
      },
      "cell_type": "code",
      "source": [
        ""
      ],
      "execution_count": 0,
      "outputs": []
    },
    {
      "metadata": {
        "id": "d28209GlUPm0",
        "colab_type": "text"
      },
      "cell_type": "markdown",
      "source": [
        "#### 34. How to get all the dates corresponding to the month of July 2016? (★★☆)"
      ]
    },
    {
      "metadata": {
        "id": "Kk3SGn1HUPm5",
        "colab_type": "code",
        "colab": {}
      },
      "cell_type": "code",
      "source": [
        ""
      ],
      "execution_count": 0,
      "outputs": []
    },
    {
      "metadata": {
        "id": "oqw7DRyNUPm7",
        "colab_type": "text"
      },
      "cell_type": "markdown",
      "source": [
        "#### 35. How to compute ((A+B)\\*(-A/2)) in place (without copy)? (★★☆)"
      ]
    },
    {
      "metadata": {
        "id": "3c190H5vUPm7",
        "colab_type": "code",
        "colab": {}
      },
      "cell_type": "code",
      "source": [
        ""
      ],
      "execution_count": 0,
      "outputs": []
    },
    {
      "metadata": {
        "id": "7lexaSTfUPm-",
        "colab_type": "text"
      },
      "cell_type": "markdown",
      "source": [
        "#### 36. Extract the integer part of a random array using 5 different methods (★★☆)"
      ]
    },
    {
      "metadata": {
        "id": "U6ResglbUPm-",
        "colab_type": "code",
        "colab": {}
      },
      "cell_type": "code",
      "source": [
        ""
      ],
      "execution_count": 0,
      "outputs": []
    },
    {
      "metadata": {
        "id": "KTQkR_x4UPnA",
        "colab_type": "text"
      },
      "cell_type": "markdown",
      "source": [
        "#### 37. Create a 5x5 matrix with row values ranging from 0 to 4 (★★☆)"
      ]
    },
    {
      "metadata": {
        "id": "hOO0238PUPnB",
        "colab_type": "code",
        "colab": {}
      },
      "cell_type": "code",
      "source": [
        ""
      ],
      "execution_count": 0,
      "outputs": []
    },
    {
      "metadata": {
        "id": "lGsR5WNqUPnE",
        "colab_type": "text"
      },
      "cell_type": "markdown",
      "source": [
        "#### 38. Consider a generator function that generates 10 integers and use it to build an array (★☆☆)"
      ]
    },
    {
      "metadata": {
        "id": "v34cCxU9UPnF",
        "colab_type": "code",
        "colab": {}
      },
      "cell_type": "code",
      "source": [
        ""
      ],
      "execution_count": 0,
      "outputs": []
    },
    {
      "metadata": {
        "id": "pViRSxiPUPnJ",
        "colab_type": "text"
      },
      "cell_type": "markdown",
      "source": [
        "#### 39. Create a vector of size 10 with values ranging from 0 to 1, both excluded (★★☆)"
      ]
    },
    {
      "metadata": {
        "id": "W8HAY_A3UPnK",
        "colab_type": "code",
        "colab": {}
      },
      "cell_type": "code",
      "source": [
        ""
      ],
      "execution_count": 0,
      "outputs": []
    },
    {
      "metadata": {
        "id": "M1e6jNjuUPnN",
        "colab_type": "text"
      },
      "cell_type": "markdown",
      "source": [
        "#### 40. Create a random vector of size 10 and sort it (★★☆)"
      ]
    },
    {
      "metadata": {
        "id": "NLc7WRwpUPnO",
        "colab_type": "code",
        "colab": {}
      },
      "cell_type": "code",
      "source": [
        ""
      ],
      "execution_count": 0,
      "outputs": []
    },
    {
      "metadata": {
        "id": "2lLnmwlOUPnQ",
        "colab_type": "text"
      },
      "cell_type": "markdown",
      "source": [
        "#### 41. How to sum a small array faster than np.sum? (★★☆)"
      ]
    },
    {
      "metadata": {
        "id": "W_-BQ1wqUPnQ",
        "colab_type": "code",
        "colab": {}
      },
      "cell_type": "code",
      "source": [
        ""
      ],
      "execution_count": 0,
      "outputs": []
    },
    {
      "metadata": {
        "id": "y4YXdJpfUPnS",
        "colab_type": "text"
      },
      "cell_type": "markdown",
      "source": [
        "#### 42. Consider two random array A and B, check if they are equal (★★☆)"
      ]
    },
    {
      "metadata": {
        "id": "MTWVQHGLUPnS",
        "colab_type": "code",
        "colab": {}
      },
      "cell_type": "code",
      "source": [
        ""
      ],
      "execution_count": 0,
      "outputs": []
    },
    {
      "metadata": {
        "id": "KZB1aV76UPnT",
        "colab_type": "text"
      },
      "cell_type": "markdown",
      "source": [
        "#### 43. Make an array immutable (read-only) (★★☆)"
      ]
    },
    {
      "metadata": {
        "id": "smcvWuWyUPnU",
        "colab_type": "code",
        "colab": {}
      },
      "cell_type": "code",
      "source": [
        ""
      ],
      "execution_count": 0,
      "outputs": []
    },
    {
      "metadata": {
        "id": "Te6F8E05UPnV",
        "colab_type": "text"
      },
      "cell_type": "markdown",
      "source": [
        "#### 44. Consider a random 10x2 matrix representing cartesian coordinates, convert them to polar coordinates (★★☆)"
      ]
    },
    {
      "metadata": {
        "id": "EWJkTtVqUPnW",
        "colab_type": "code",
        "colab": {}
      },
      "cell_type": "code",
      "source": [
        ""
      ],
      "execution_count": 0,
      "outputs": []
    },
    {
      "metadata": {
        "id": "_8Ilz_LJUPna",
        "colab_type": "text"
      },
      "cell_type": "markdown",
      "source": [
        "#### 45. Create random vector of size 10 and replace the maximum value by 0 (★★☆)"
      ]
    },
    {
      "metadata": {
        "id": "pomat9QCUPnb",
        "colab_type": "code",
        "colab": {}
      },
      "cell_type": "code",
      "source": [
        ""
      ],
      "execution_count": 0,
      "outputs": []
    },
    {
      "metadata": {
        "id": "zrxVfcpvUPnc",
        "colab_type": "text"
      },
      "cell_type": "markdown",
      "source": [
        "#### 46. Create a structured array with `x` and `y` coordinates covering the \\[0,1\\]x\\[0,1\\] area (★★☆)"
      ]
    },
    {
      "metadata": {
        "id": "mYPRm0Z-UPnc",
        "colab_type": "code",
        "colab": {}
      },
      "cell_type": "code",
      "source": [
        ""
      ],
      "execution_count": 0,
      "outputs": []
    },
    {
      "metadata": {
        "id": "2LJuG6FsUPne",
        "colab_type": "text"
      },
      "cell_type": "markdown",
      "source": [
        "####  47. Given two arrays, X and Y, construct the Cauchy matrix C (Cij =1/(xi - yj))"
      ]
    },
    {
      "metadata": {
        "id": "gE-eTkx2UPne",
        "colab_type": "code",
        "colab": {}
      },
      "cell_type": "code",
      "source": [
        ""
      ],
      "execution_count": 0,
      "outputs": []
    },
    {
      "metadata": {
        "id": "EpxSjIGIUPng",
        "colab_type": "text"
      },
      "cell_type": "markdown",
      "source": [
        "#### 48. Print the minimum and maximum representable value for each numpy scalar type (★★☆)"
      ]
    },
    {
      "metadata": {
        "id": "mEZfa-SjUPng",
        "colab_type": "code",
        "colab": {}
      },
      "cell_type": "code",
      "source": [
        ""
      ],
      "execution_count": 0,
      "outputs": []
    },
    {
      "metadata": {
        "id": "X8VqV0haUPnl",
        "colab_type": "text"
      },
      "cell_type": "markdown",
      "source": [
        "#### 49. How to print all the values of an array? (★★☆)"
      ]
    },
    {
      "metadata": {
        "id": "CCOFAezdUPnl",
        "colab_type": "code",
        "colab": {}
      },
      "cell_type": "code",
      "source": [
        ""
      ],
      "execution_count": 0,
      "outputs": []
    },
    {
      "metadata": {
        "id": "CpinTLSDUPns",
        "colab_type": "text"
      },
      "cell_type": "markdown",
      "source": [
        "#### 50. How to find the closest value (to a given scalar) in a vector? (★★☆)"
      ]
    },
    {
      "metadata": {
        "id": "OuBwTu53UPns",
        "colab_type": "code",
        "colab": {}
      },
      "cell_type": "code",
      "source": [
        ""
      ],
      "execution_count": 0,
      "outputs": []
    },
    {
      "metadata": {
        "id": "FvSYhpIsUPnu",
        "colab_type": "text"
      },
      "cell_type": "markdown",
      "source": [
        "#### 51. Create a structured array representing a position (x,y) and a color (r,g,b) (★★☆)"
      ]
    },
    {
      "metadata": {
        "id": "SxVBT3I_UPnv",
        "colab_type": "code",
        "colab": {}
      },
      "cell_type": "code",
      "source": [
        ""
      ],
      "execution_count": 0,
      "outputs": []
    },
    {
      "metadata": {
        "id": "FH9nwBNHUPnx",
        "colab_type": "text"
      },
      "cell_type": "markdown",
      "source": [
        "#### 52. Consider a random vector with shape (100,2) representing coordinates, find point by point distances (★★☆)"
      ]
    },
    {
      "metadata": {
        "id": "H_GLQUXpUPnx",
        "colab_type": "code",
        "colab": {}
      },
      "cell_type": "code",
      "source": [
        ""
      ],
      "execution_count": 0,
      "outputs": []
    },
    {
      "metadata": {
        "id": "27LxMAuUUPn0",
        "colab_type": "text"
      },
      "cell_type": "markdown",
      "source": [
        "#### 53. How to convert a float (32 bits) array into an integer (32 bits) in place?"
      ]
    },
    {
      "metadata": {
        "id": "9tmUkA2kUPn0",
        "colab_type": "code",
        "colab": {}
      },
      "cell_type": "code",
      "source": [
        ""
      ],
      "execution_count": 0,
      "outputs": []
    },
    {
      "metadata": {
        "id": "oJTVL_z3UPn2",
        "colab_type": "text"
      },
      "cell_type": "markdown",
      "source": [
        "#### 54. How to read the following file? (★★☆)"
      ]
    },
    {
      "metadata": {
        "id": "Xw1k96-zUPn2",
        "colab_type": "text"
      },
      "cell_type": "markdown",
      "source": [
        "```\n",
        "1, 2, 3, 4, 5\n",
        "6,  ,  , 7, 8\n",
        " ,  , 9,10,11\n",
        "```"
      ]
    },
    {
      "metadata": {
        "id": "crQ4RQeAUPn3",
        "colab_type": "code",
        "colab": {}
      },
      "cell_type": "code",
      "source": [
        ""
      ],
      "execution_count": 0,
      "outputs": []
    },
    {
      "metadata": {
        "id": "0Oqq3dU-UPn5",
        "colab_type": "text"
      },
      "cell_type": "markdown",
      "source": [
        "#### 55. What is the equivalent of enumerate for numpy arrays? (★★☆)"
      ]
    },
    {
      "metadata": {
        "id": "5B_oGxPcUPn6",
        "colab_type": "code",
        "colab": {}
      },
      "cell_type": "code",
      "source": [
        ""
      ],
      "execution_count": 0,
      "outputs": []
    },
    {
      "metadata": {
        "id": "fsbDObkcUPn9",
        "colab_type": "text"
      },
      "cell_type": "markdown",
      "source": [
        "#### 56. Generate a generic 2D Gaussian-like array (★★☆)"
      ]
    },
    {
      "metadata": {
        "id": "Rns3DoC9UPn9",
        "colab_type": "code",
        "colab": {}
      },
      "cell_type": "code",
      "source": [
        ""
      ],
      "execution_count": 0,
      "outputs": []
    },
    {
      "metadata": {
        "id": "8maJCMEkUPn_",
        "colab_type": "text"
      },
      "cell_type": "markdown",
      "source": [
        "#### 57. How to randomly place p elements in a 2D array? (★★☆)"
      ]
    },
    {
      "metadata": {
        "id": "bGbGghp3UPn_",
        "colab_type": "code",
        "colab": {}
      },
      "cell_type": "code",
      "source": [
        ""
      ],
      "execution_count": 0,
      "outputs": []
    },
    {
      "metadata": {
        "id": "dwbUxjm1UPoC",
        "colab_type": "text"
      },
      "cell_type": "markdown",
      "source": [
        "#### 58. Subtract the mean of each row of a matrix (★★☆)"
      ]
    },
    {
      "metadata": {
        "id": "HT4pdxcpUPoD",
        "colab_type": "code",
        "colab": {}
      },
      "cell_type": "code",
      "source": [
        ""
      ],
      "execution_count": 0,
      "outputs": []
    },
    {
      "metadata": {
        "id": "vyD7ZraIUPoF",
        "colab_type": "text"
      },
      "cell_type": "markdown",
      "source": [
        "#### 59. How to sort an array by the nth column? (★★☆)"
      ]
    },
    {
      "metadata": {
        "id": "rD0C7i67UPoG",
        "colab_type": "code",
        "colab": {}
      },
      "cell_type": "code",
      "source": [
        ""
      ],
      "execution_count": 0,
      "outputs": []
    },
    {
      "metadata": {
        "id": "dMVE8_uZUPoJ",
        "colab_type": "text"
      },
      "cell_type": "markdown",
      "source": [
        "#### 60. How to tell if a given 2D array has null columns? (★★☆)"
      ]
    },
    {
      "metadata": {
        "id": "QRTnubWQUPoJ",
        "colab_type": "code",
        "colab": {}
      },
      "cell_type": "code",
      "source": [
        ""
      ],
      "execution_count": 0,
      "outputs": []
    },
    {
      "metadata": {
        "id": "2Ch2PA7bUPoM",
        "colab_type": "text"
      },
      "cell_type": "markdown",
      "source": [
        "#### 61. Find the nearest value from a given value in an array (★★☆)"
      ]
    },
    {
      "metadata": {
        "id": "p5MRjNwSUPoN",
        "colab_type": "code",
        "colab": {}
      },
      "cell_type": "code",
      "source": [
        ""
      ],
      "execution_count": 0,
      "outputs": []
    },
    {
      "metadata": {
        "id": "OzClraezUPoQ",
        "colab_type": "text"
      },
      "cell_type": "markdown",
      "source": [
        "#### 62. Considering two arrays with shape (1,3) and (3,1), how to compute their sum using an iterator? (★★☆)"
      ]
    },
    {
      "metadata": {
        "id": "VNKdLIrCUPoR",
        "colab_type": "code",
        "colab": {}
      },
      "cell_type": "code",
      "source": [
        ""
      ],
      "execution_count": 0,
      "outputs": []
    },
    {
      "metadata": {
        "id": "hTZnxQGrUPoS",
        "colab_type": "text"
      },
      "cell_type": "markdown",
      "source": [
        "#### 63. Create an array class that has a name attribute (★★☆)"
      ]
    },
    {
      "metadata": {
        "id": "-9t2YbTCUPoS",
        "colab_type": "code",
        "colab": {}
      },
      "cell_type": "code",
      "source": [
        ""
      ],
      "execution_count": 0,
      "outputs": []
    },
    {
      "metadata": {
        "id": "2Rog6nTiUPoV",
        "colab_type": "text"
      },
      "cell_type": "markdown",
      "source": [
        "#### 64. Consider a given vector, how to add 1 to each element indexed by a second vector (be careful with repeated indices)? (★★★)"
      ]
    },
    {
      "metadata": {
        "id": "km7AKl15UPoW",
        "colab_type": "code",
        "colab": {}
      },
      "cell_type": "code",
      "source": [
        ""
      ],
      "execution_count": 0,
      "outputs": []
    },
    {
      "metadata": {
        "id": "JOxAoexcUPoX",
        "colab_type": "text"
      },
      "cell_type": "markdown",
      "source": [
        "#### 65. How to accumulate elements of a vector (X) to an array (F) based on an index list (I)? (★★★)"
      ]
    },
    {
      "metadata": {
        "id": "mhh86WW4UPoY",
        "colab_type": "code",
        "colab": {}
      },
      "cell_type": "code",
      "source": [
        ""
      ],
      "execution_count": 0,
      "outputs": []
    },
    {
      "metadata": {
        "id": "WV4tHWJ7UPoZ",
        "colab_type": "text"
      },
      "cell_type": "markdown",
      "source": [
        "#### 66. Considering a (w,h,3) image of (dtype=ubyte), compute the number of unique colors (★★★)"
      ]
    },
    {
      "metadata": {
        "id": "i73LQ0HAUPoZ",
        "colab_type": "code",
        "colab": {}
      },
      "cell_type": "code",
      "source": [
        ""
      ],
      "execution_count": 0,
      "outputs": []
    },
    {
      "metadata": {
        "id": "-YmIqucPUPob",
        "colab_type": "text"
      },
      "cell_type": "markdown",
      "source": [
        "#### 67. Considering a four dimensions array, how to get sum over the last two axis at once? (★★★)"
      ]
    },
    {
      "metadata": {
        "id": "S5t5vq4XUPoe",
        "colab_type": "code",
        "colab": {}
      },
      "cell_type": "code",
      "source": [
        ""
      ],
      "execution_count": 0,
      "outputs": []
    },
    {
      "metadata": {
        "id": "Yi1LedR2UPof",
        "colab_type": "text"
      },
      "cell_type": "markdown",
      "source": [
        "#### 68. Considering a one-dimensional vector D, how to compute means of subsets of D using a vector S of same size describing subset  indices? (★★★)"
      ]
    },
    {
      "metadata": {
        "id": "i3FdOXDcUPog",
        "colab_type": "code",
        "colab": {}
      },
      "cell_type": "code",
      "source": [
        ""
      ],
      "execution_count": 0,
      "outputs": []
    },
    {
      "metadata": {
        "id": "p9c0ckq7UPoj",
        "colab_type": "text"
      },
      "cell_type": "markdown",
      "source": [
        "#### 69. How to get the diagonal of a dot product? (★★★)"
      ]
    },
    {
      "metadata": {
        "id": "UaMz5P6uUPok",
        "colab_type": "code",
        "colab": {}
      },
      "cell_type": "code",
      "source": [
        ""
      ],
      "execution_count": 0,
      "outputs": []
    },
    {
      "metadata": {
        "id": "uuaximkwUPol",
        "colab_type": "text"
      },
      "cell_type": "markdown",
      "source": [
        "#### 70. Consider the vector \\[1, 2, 3, 4, 5\\], how to build a new vector with 3 consecutive zeros interleaved between each value? (★★★)"
      ]
    },
    {
      "metadata": {
        "id": "kNno-KbpUPom",
        "colab_type": "code",
        "colab": {}
      },
      "cell_type": "code",
      "source": [
        ""
      ],
      "execution_count": 0,
      "outputs": []
    },
    {
      "metadata": {
        "id": "ZkjWhHIgUPon",
        "colab_type": "text"
      },
      "cell_type": "markdown",
      "source": [
        "#### 71. Consider an array of dimension (5,5,3), how to mulitply it by an array with dimensions (5,5)? (★★★)"
      ]
    },
    {
      "metadata": {
        "id": "Ai9POkvEUPon",
        "colab_type": "code",
        "colab": {},
        "collapsed": true
      },
      "cell_type": "code",
      "source": [
        ""
      ],
      "execution_count": 0,
      "outputs": []
    },
    {
      "metadata": {
        "id": "iyljM3P8UPop",
        "colab_type": "text"
      },
      "cell_type": "markdown",
      "source": [
        "#### 72. How to swap two rows of an array? (★★★)"
      ]
    },
    {
      "metadata": {
        "id": "6Ndi5tqXUPoq",
        "colab_type": "code",
        "colab": {}
      },
      "cell_type": "code",
      "source": [
        ""
      ],
      "execution_count": 0,
      "outputs": []
    },
    {
      "metadata": {
        "id": "aVj72sqtUPou",
        "colab_type": "text"
      },
      "cell_type": "markdown",
      "source": [
        "#### 73. Consider a set of 10 triplets describing 10 triangles (with shared vertices), find the set of unique line segments composing all the  triangles (★★★)"
      ]
    },
    {
      "metadata": {
        "id": "BsTQxYaGUPov",
        "colab_type": "code",
        "colab": {}
      },
      "cell_type": "code",
      "source": [
        ""
      ],
      "execution_count": 0,
      "outputs": []
    },
    {
      "metadata": {
        "id": "4A5-VSBjUPox",
        "colab_type": "text"
      },
      "cell_type": "markdown",
      "source": [
        "#### 74. Given an array C that is a bincount, how to produce an array A such that np.bincount(A) == C? (★★★)"
      ]
    },
    {
      "metadata": {
        "id": "VmtIT0AOUPoy",
        "colab_type": "code",
        "colab": {}
      },
      "cell_type": "code",
      "source": [
        ""
      ],
      "execution_count": 0,
      "outputs": []
    },
    {
      "metadata": {
        "id": "gvCak-1cUPo1",
        "colab_type": "text"
      },
      "cell_type": "markdown",
      "source": [
        "#### 75. How to compute averages using a sliding window over an array? (★★★)"
      ]
    },
    {
      "metadata": {
        "id": "fK6zwxbJUPo1",
        "colab_type": "code",
        "colab": {}
      },
      "cell_type": "code",
      "source": [
        ""
      ],
      "execution_count": 0,
      "outputs": []
    },
    {
      "metadata": {
        "id": "MGZSvSIkUPo3",
        "colab_type": "text"
      },
      "cell_type": "markdown",
      "source": [
        "#### 76. Consider a one-dimensional array Z, build a two-dimensional array whose first row is (Z\\[0\\],Z\\[1\\],Z\\[2\\]) and each subsequent row is  shifted by 1 (last row should be (Z\\[-3\\],Z\\[-2\\],Z\\[-1\\]) (★★★)"
      ]
    },
    {
      "metadata": {
        "id": "kV8_envfUPo3",
        "colab_type": "code",
        "colab": {}
      },
      "cell_type": "code",
      "source": [
        ""
      ],
      "execution_count": 0,
      "outputs": []
    },
    {
      "metadata": {
        "id": "ENJRKkzIUPo4",
        "colab_type": "text"
      },
      "cell_type": "markdown",
      "source": [
        "#### 77. How to negate a boolean, or to change the sign of a float inplace? (★★★)"
      ]
    },
    {
      "metadata": {
        "id": "F_t58nfFUPo4",
        "colab_type": "code",
        "colab": {}
      },
      "cell_type": "code",
      "source": [
        ""
      ],
      "execution_count": 0,
      "outputs": []
    },
    {
      "metadata": {
        "id": "fgVxCYBrUPo6",
        "colab_type": "text"
      },
      "cell_type": "markdown",
      "source": [
        "#### 78. Consider 2 sets of points P0,P1 describing lines (2d) and a point p, how to compute distance from p to each line i  (P0\\[i\\],P1\\[i\\])? (★★★)"
      ]
    },
    {
      "metadata": {
        "id": "hnQcASihUPo6",
        "colab_type": "code",
        "colab": {}
      },
      "cell_type": "code",
      "source": [
        ""
      ],
      "execution_count": 0,
      "outputs": []
    },
    {
      "metadata": {
        "id": "PjUUAvjrUPo7",
        "colab_type": "text"
      },
      "cell_type": "markdown",
      "source": [
        "#### 79. Consider 2 sets of points P0,P1 describing lines (2d) and a set of points P, how to compute distance from each point j (P\\[j\\]) to each line i (P0\\[i\\],P1\\[i\\])? (★★★)"
      ]
    },
    {
      "metadata": {
        "id": "ZwGloVfyUPo8",
        "colab_type": "code",
        "colab": {}
      },
      "cell_type": "code",
      "source": [
        ""
      ],
      "execution_count": 0,
      "outputs": []
    },
    {
      "metadata": {
        "id": "7MPyuE-4UPo9",
        "colab_type": "text"
      },
      "cell_type": "markdown",
      "source": [
        "#### 80. Consider an arbitrary array, write a function that extract a subpart with a fixed shape and centered on a given element (pad with a `fill` value when necessary) (★★★)"
      ]
    },
    {
      "metadata": {
        "id": "bJGu_FWYUPo_",
        "colab_type": "code",
        "colab": {}
      },
      "cell_type": "code",
      "source": [
        ""
      ],
      "execution_count": 0,
      "outputs": []
    },
    {
      "metadata": {
        "id": "Z4JWsProUPpD",
        "colab_type": "text"
      },
      "cell_type": "markdown",
      "source": [
        "#### 81. Consider an array Z = \\[1,2,3,4,5,6,7,8,9,10,11,12,13,14\\], how to generate an array R = \\[\\[1,2,3,4\\], \\[2,3,4,5\\], \\[3,4,5,6\\], ..., \\[11,12,13,14\\]\\]? (★★★)"
      ]
    },
    {
      "metadata": {
        "id": "fbd4E_93UPpD",
        "colab_type": "code",
        "colab": {}
      },
      "cell_type": "code",
      "source": [
        ""
      ],
      "execution_count": 0,
      "outputs": []
    },
    {
      "metadata": {
        "id": "Yjc8wUbgUPpE",
        "colab_type": "text"
      },
      "cell_type": "markdown",
      "source": [
        "#### 82. Compute a matrix rank (★★★)"
      ]
    },
    {
      "metadata": {
        "id": "XHaE2c58UPpE",
        "colab_type": "code",
        "colab": {}
      },
      "cell_type": "code",
      "source": [
        ""
      ],
      "execution_count": 0,
      "outputs": []
    },
    {
      "metadata": {
        "id": "rlvO6ws6UPpG",
        "colab_type": "text"
      },
      "cell_type": "markdown",
      "source": [
        "#### 83. How to find the most frequent value in an array?"
      ]
    },
    {
      "metadata": {
        "id": "oc6SpmakUPpH",
        "colab_type": "code",
        "colab": {}
      },
      "cell_type": "code",
      "source": [
        ""
      ],
      "execution_count": 0,
      "outputs": []
    },
    {
      "metadata": {
        "id": "h3eykF68UPpI",
        "colab_type": "text"
      },
      "cell_type": "markdown",
      "source": [
        "#### 84. Extract all the contiguous 3x3 blocks from a random 10x10 matrix (★★★)"
      ]
    },
    {
      "metadata": {
        "id": "RDVmz3lkUPpI",
        "colab_type": "code",
        "colab": {}
      },
      "cell_type": "code",
      "source": [
        ""
      ],
      "execution_count": 0,
      "outputs": []
    },
    {
      "metadata": {
        "id": "CwlUg6cWUPpJ",
        "colab_type": "text"
      },
      "cell_type": "markdown",
      "source": [
        "#### 85. Create a 2D array subclass such that Z\\[i,j\\] == Z\\[j,i\\] (★★★)"
      ]
    },
    {
      "metadata": {
        "id": "YLxv_ZZCUPpJ",
        "colab_type": "code",
        "colab": {}
      },
      "cell_type": "code",
      "source": [
        ""
      ],
      "execution_count": 0,
      "outputs": []
    },
    {
      "metadata": {
        "id": "HaMFIyplUPpL",
        "colab_type": "text"
      },
      "cell_type": "markdown",
      "source": [
        "#### 86. Consider a set of p matrices wich shape (n,n) and a set of p vectors with shape (n,1). How to compute the sum of of the p matrix products at once? (result has shape (n,1)) (★★★)"
      ]
    },
    {
      "metadata": {
        "id": "U2BBD48rUPpL",
        "colab_type": "code",
        "colab": {}
      },
      "cell_type": "code",
      "source": [
        ""
      ],
      "execution_count": 0,
      "outputs": []
    },
    {
      "metadata": {
        "id": "oYmGHpi_UPpM",
        "colab_type": "text"
      },
      "cell_type": "markdown",
      "source": [
        "#### 87. Consider a 16x16 array, how to get the block-sum (block size is 4x4)? (★★★)"
      ]
    },
    {
      "metadata": {
        "id": "CwEOuPdnUPpM",
        "colab_type": "code",
        "colab": {}
      },
      "cell_type": "code",
      "source": [
        ""
      ],
      "execution_count": 0,
      "outputs": []
    },
    {
      "metadata": {
        "id": "7wSfMh7gUPpO",
        "colab_type": "text"
      },
      "cell_type": "markdown",
      "source": [
        "#### 88. How to implement the Game of Life using numpy arrays? (★★★)"
      ]
    },
    {
      "metadata": {
        "id": "AfYTHwzPUPpQ",
        "colab_type": "code",
        "colab": {}
      },
      "cell_type": "code",
      "source": [
        ""
      ],
      "execution_count": 0,
      "outputs": []
    },
    {
      "metadata": {
        "id": "DXOAJLwEUPpS",
        "colab_type": "text"
      },
      "cell_type": "markdown",
      "source": [
        "#### 89. How to get the n largest values of an array (★★★)"
      ]
    },
    {
      "metadata": {
        "id": "bp8vxavLUPpS",
        "colab_type": "code",
        "colab": {}
      },
      "cell_type": "code",
      "source": [
        ""
      ],
      "execution_count": 0,
      "outputs": []
    },
    {
      "metadata": {
        "id": "PN37hQ97UPpU",
        "colab_type": "text"
      },
      "cell_type": "markdown",
      "source": [
        "#### 90. Given an arbitrary number of vectors, build the cartesian product (every combinations of every item) (★★★)"
      ]
    },
    {
      "metadata": {
        "id": "cyewfUnNUPpV",
        "colab_type": "code",
        "colab": {}
      },
      "cell_type": "code",
      "source": [
        ""
      ],
      "execution_count": 0,
      "outputs": []
    },
    {
      "metadata": {
        "id": "wYknN2YVUPpW",
        "colab_type": "text"
      },
      "cell_type": "markdown",
      "source": [
        "#### 91. How to create a record array from a regular array? (★★★)"
      ]
    },
    {
      "metadata": {
        "id": "5pI9wxB5UPpX",
        "colab_type": "code",
        "colab": {}
      },
      "cell_type": "code",
      "source": [
        ""
      ],
      "execution_count": 0,
      "outputs": []
    },
    {
      "metadata": {
        "id": "KG2P7r23UPpX",
        "colab_type": "text"
      },
      "cell_type": "markdown",
      "source": [
        "#### 92. Consider a large vector Z, compute Z to the power of 3 using 3 different methods (★★★)"
      ]
    },
    {
      "metadata": {
        "id": "KAuKEgdgUPpX",
        "colab_type": "code",
        "colab": {}
      },
      "cell_type": "code",
      "source": [
        ""
      ],
      "execution_count": 0,
      "outputs": []
    },
    {
      "metadata": {
        "id": "GY5poEO7UPpY",
        "colab_type": "text"
      },
      "cell_type": "markdown",
      "source": [
        "#### 93. Consider two arrays A and B of shape (8,3) and (2,2). How to find rows of A that contain elements of each row of B regardless of the order of the elements in B? (★★★)"
      ]
    },
    {
      "metadata": {
        "id": "Lu9Tc2EoUPpZ",
        "colab_type": "code",
        "colab": {}
      },
      "cell_type": "code",
      "source": [
        ""
      ],
      "execution_count": 0,
      "outputs": []
    },
    {
      "metadata": {
        "id": "wIXPioZHUPpa",
        "colab_type": "text"
      },
      "cell_type": "markdown",
      "source": [
        "#### 94. Considering a 10x3 matrix, extract rows with unequal values (e.g. \\[2,2,3\\]) (★★★)"
      ]
    },
    {
      "metadata": {
        "id": "3jUXT0ZjUPpa",
        "colab_type": "code",
        "colab": {}
      },
      "cell_type": "code",
      "source": [
        ""
      ],
      "execution_count": 0,
      "outputs": []
    },
    {
      "metadata": {
        "id": "cQhwca04UPpa",
        "colab_type": "text"
      },
      "cell_type": "markdown",
      "source": [
        "#### 95. Convert a vector of ints into a matrix binary representation (★★★)"
      ]
    },
    {
      "metadata": {
        "id": "ty6tOtvlUPpa",
        "colab_type": "code",
        "colab": {}
      },
      "cell_type": "code",
      "source": [
        ""
      ],
      "execution_count": 0,
      "outputs": []
    },
    {
      "metadata": {
        "id": "U082sQgBUPpb",
        "colab_type": "text"
      },
      "cell_type": "markdown",
      "source": [
        "#### 96. Given a two dimensional array, how to extract unique rows? (★★★)"
      ]
    },
    {
      "metadata": {
        "id": "BQ2qZ902UPpb",
        "colab_type": "code",
        "colab": {}
      },
      "cell_type": "code",
      "source": [
        ""
      ],
      "execution_count": 0,
      "outputs": []
    },
    {
      "metadata": {
        "id": "YI20h_BZUPpc",
        "colab_type": "text"
      },
      "cell_type": "markdown",
      "source": [
        "#### 97. Considering 2 vectors A & B, write the einsum equivalent of inner, outer, sum, and mul function (★★★)"
      ]
    },
    {
      "metadata": {
        "id": "zNDc2FB7UPpc",
        "colab_type": "code",
        "colab": {}
      },
      "cell_type": "code",
      "source": [
        ""
      ],
      "execution_count": 0,
      "outputs": []
    },
    {
      "metadata": {
        "id": "u--zvPm1UPpe",
        "colab_type": "text"
      },
      "cell_type": "markdown",
      "source": [
        "#### 98. Considering a path described by two vectors (X,Y), how to sample it using equidistant samples (★★★)?"
      ]
    },
    {
      "metadata": {
        "id": "N-D2d1e5UPpe",
        "colab_type": "code",
        "colab": {},
        "collapsed": true
      },
      "cell_type": "code",
      "source": [
        ""
      ],
      "execution_count": 0,
      "outputs": []
    },
    {
      "metadata": {
        "id": "2JdZCCPrUPpf",
        "colab_type": "text"
      },
      "cell_type": "markdown",
      "source": [
        "#### 99. Given an integer n and a 2D array X, select from X the rows which can be interpreted as draws from a multinomial distribution with n degrees, i.e., the rows which only contain integers and which sum to n. (★★★)"
      ]
    },
    {
      "metadata": {
        "id": "OiP2RvWRUPpf",
        "colab_type": "code",
        "colab": {}
      },
      "cell_type": "code",
      "source": [
        ""
      ],
      "execution_count": 0,
      "outputs": []
    },
    {
      "metadata": {
        "id": "PWJADvqiUPph",
        "colab_type": "text"
      },
      "cell_type": "markdown",
      "source": [
        "#### 100. Compute bootstrapped 95% confidence intervals for the mean of a 1D array X (i.e., resample the elements of an array with replacement N times, compute the mean of each sample, and then compute percentiles over the means). (★★★)"
      ]
    },
    {
      "metadata": {
        "id": "xkxnYEA5UPpi",
        "colab_type": "code",
        "colab": {}
      },
      "cell_type": "code",
      "source": [
        ""
      ],
      "execution_count": 0,
      "outputs": []
    }
  ]
}